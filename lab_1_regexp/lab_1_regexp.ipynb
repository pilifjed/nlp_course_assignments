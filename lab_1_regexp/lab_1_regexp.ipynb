{
 "cells": [
  {
   "cell_type": "markdown",
   "metadata": {},
   "source": [
    "# Imports, helper functions and data preparation"
   ]
  },
  {
   "cell_type": "code",
   "execution_count": 62,
   "metadata": {},
   "outputs": [],
   "source": [
    "import re\n",
    "import os\n",
    "from collections import defaultdict\n",
    "import numpy as np\n",
    "import matplotlib.ticker as mtick\n",
    "from matplotlib import pyplot as plt\n",
    "from IPython.display import Markdown as md\n",
    "\n",
    "def get_texts_dataset(dataset_path):\n",
    "    filenames = os.listdir(dataset_path)\n",
    "    texts = []\n",
    "    text_names = []\n",
    "    for filename in filenames:\n",
    "        file_path = os.path.join(dataset_path, filename)\n",
    "        with open(file_path) as current_file:\n",
    "            texts.append(current_file.read())\n",
    "            text_names.append(filename)\n",
    "    return text_names, texts\n",
    "\n",
    "def count_by_year(file_labels,counts_by_document):\n",
    "    counts_by_year = defaultdict(lambda: 0)\n",
    "    for fname, count in zip(file_labels, counts_by_document):\n",
    "        key = fname.split(\"_\")[0]\n",
    "        counts_by_year[key] += count\n",
    "    return counts_by_year\n",
    "\n",
    "def pprint_dict(dict_to_print):\n",
    "    content = dict_to_print.items()\n",
    "    sorted_content = sorted(content, key=lambda x: x[0])\n",
    "    print(\"{\")\n",
    "    for key, value in sorted_content:\n",
    "        print(\"  {0}: {1}\".format(key, value))\n",
    "    print(\"}\")\n",
    "\n",
    "data_dir = os.path.join(\"..\",\"data\", \"ustawy\")\n",
    "file_labels, dataset = get_texts_dataset(data_dir)"
   ]
  },
  {
   "cell_type": "markdown",
   "metadata": {},
   "source": [
    "# Building regular expressions (task 1-2)|"
   ]
  },
  {
   "cell_type": "code",
   "execution_count": 87,
   "metadata": {},
   "outputs": [
    {
     "data": {
      "text/markdown": [
       "## Final regex forms\n",
       "\n",
       "### Addition of a unit\n",
       "\n",
       "```(dodaje[\\s\\n]*si[eę][\\s\\n]*(art[\\.\\n\\s]|ust[\\.\\n\\s]|pkt[\\.\\n\\s]|lit|zdanie|§|rozdzia[lł]|dzia[lł]))```\n",
       "\n",
       "### Removal of a unit\n",
       "\n",
       "```((art[\\.\\n\\s]|ust[\\.\\n\\s]|pkt[\\.\\n\\s]|lit|zdanie|§|rozdzia[lł]|dzia[lł])([\\s\\n]*[\\w-]*[\\s\\n]*)skre[sś]la[\\s\\n]*si[eę]|skre[sś]la[\\s\\n]*si[eę][\\s\\n]*(art[\\.\\n\\s]|ust[\\.\\n\\s]|pkt[\\.\\n\\s]|lit|zdanie|§|rozdzia[lł]|dzia[lł]))```\n",
       "\n",
       "### Change of a unit\n",
       "\n",
       "```((art[\\.\\n\\s]|ust[\\.\\n\\s]|pkt[\\.\\n\\s]|lit|zdanie|§|rozdzia[lł]|dzia[lł])([\\s\\n]*[\\w-]*[\\s\\n]*)otrzymuje[\\s\\n]*brzmienie)```\n",
       "\n"
      ],
      "text/plain": [
       "<IPython.core.display.Markdown object>"
      ]
     },
     "execution_count": 87,
     "metadata": {},
     "output_type": "execute_result"
    }
   ],
   "source": [
    "unit = r\"(art[\\.\\n\\s]|ust[\\.\\n\\s]|pkt[\\.\\n\\s]|lit|zdanie|§|rozdzia[lł]|dzia[lł])\"\n",
    "unit = r\"(art[\\.\\n\\s]|ust[\\.\\n\\s]|pkt[\\.\\n\\s]|lit|zdanie|§|rozdzia[lł]|dzia[lł])\"\n",
    "dodaje_sie = r\"(dodaje[\\s\\n]*si[eę][\\s\\n]*{UNIT})\".format(UNIT=unit)\n",
    "base = r\"skre[sś]la[\\s\\n]*si[eę]\"\n",
    "skresla_sie = r\"({UNIT}([\\s\\n]*[\\w-]*[\\s\\n]*){BASE}|{BASE}[\\s\\n]*{UNIT})\".format(UNIT=unit, BASE=base)\n",
    "otrzymuje = r\"({UNIT}([\\s\\n]*[\\w-]*[\\s\\n]*)otrzymuje[\\s\\n]*brzmienie)\".format(UNIT=unit)\n",
    "\n",
    "md(\"## Final regex forms\\n\\n\"\n",
    "   \"### Addition of a unit\\n\\n```{0}```\\n\\n\"\n",
    "   \"### Removal of a unit\\n\\n```{1}```\\n\\n\"\n",
    "   \"### Change of a unit\\n\\n```{2}```\\n\\n\".format(dodaje_sie, skresla_sie, otrzymuje))"
   ]
  },
  {
   "cell_type": "markdown",
   "metadata": {},
   "source": [
    "# Occurence counts extraction (task 1-2)"
   ]
  },
  {
   "cell_type": "code",
   "execution_count": 79,
   "metadata": {},
   "outputs": [
    {
     "name": "stdout",
     "output_type": "stream",
     "text": [
      "{\n",
      "  1993: 36\n",
      "  1994: 109\n",
      "  1995: 355\n",
      "  1996: 543\n",
      "  1997: 713\n",
      "  1998: 234\n",
      "  1999: 170\n",
      "  2000: 816\n",
      "  2001: 1176\n",
      "  2002: 93\n",
      "  2003: 1119\n",
      "  2004: 1078\n",
      "}\n",
      "SUM: 6442\n"
     ]
    }
   ],
   "source": [
    "out_dodaje_sie = map(lambda x: re.findall(dodaje_sie, x, re.IGNORECASE), dataset)\n",
    "counts_dodaje_sie = list(map(lambda x: len(x), out_dodaje_sie))\n",
    "counts_by_year_dodaje_sie = count_by_year(file_labels, counts_dodaje_sie)\n",
    "pprint_dict(dict(counts_by_year_dodaje_sie))\n",
    "print(\"SUM: {0}\".format(sum(counts_by_year_dodaje_sie.values())))"
   ]
  },
  {
   "cell_type": "code",
   "execution_count": 80,
   "metadata": {},
   "outputs": [
    {
     "name": "stdout",
     "output_type": "stream",
     "text": [
      "{\n",
      "  1993: 17\n",
      "  1994: 52\n",
      "  1995: 143\n",
      "  1996: 366\n",
      "  1997: 443\n",
      "  1998: 144\n",
      "  1999: 91\n",
      "  2000: 542\n",
      "  2001: 441\n",
      "  2002: 4\n",
      "  2003: 55\n",
      "  2004: 19\n",
      "}\n",
      "SUM: 2317\n"
     ]
    }
   ],
   "source": [
    "out_skresla_sie = map(lambda x: re.findall(skresla_sie, x, re.IGNORECASE), dataset)\n",
    "counts_skresla_sie = list(map(lambda x: len(x), out_skresla_sie))\n",
    "counts_by_year_skresla_sie = count_by_year(file_labels, counts_skresla_sie)\n",
    "pprint_dict(dict(counts_by_year_skresla_sie))\n",
    "print(\"SUM: {0}\".format(sum(counts_skresla_sie)))"
   ]
  },
  {
   "cell_type": "code",
   "execution_count": 81,
   "metadata": {},
   "outputs": [
    {
     "name": "stdout",
     "output_type": "stream",
     "text": [
      "{\n",
      "  1993: 58\n",
      "  1994: 159\n",
      "  1995: 350\n",
      "  1996: 865\n",
      "  1997: 1025\n",
      "  1998: 283\n",
      "  1999: 157\n",
      "  2000: 1420\n",
      "  2001: 1294\n",
      "  2002: 173\n",
      "  2003: 1765\n",
      "  2004: 1542\n",
      "}\n",
      "SUM: 9091\n"
     ]
    }
   ],
   "source": [
    "out_otrzymuje = map(lambda x: re.findall(otrzymuje, x, re.IGNORECASE), dataset)\n",
    "counts_otrzymuje = list(map(lambda x: len(x), out_otrzymuje))\n",
    "counts_by_year_otrzymuje = count_by_year(file_labels, counts_otrzymuje)\n",
    "pprint_dict(dict(counts_by_year_otrzymuje))\n",
    "print(\"SUM: {0}\".format(sum(counts_otrzymuje)))"
   ]
  },
  {
   "cell_type": "markdown",
   "metadata": {},
   "source": [
    "# Plots (task 1-2)"
   ]
  },
  {
   "cell_type": "code",
   "execution_count": 82,
   "metadata": {},
   "outputs": [
    {
     "data": {
      "image/png": "[encoded data removed]",
      "text/plain": [
       "<Figure size 576x360 with 1 Axes>"
      ]
     },
     "metadata": {
      "needs_background": "light"
     },
     "output_type": "display_data"
    }
   ],
   "source": [
    "years = np.array(list(counts_by_year_dodaje_sie.keys()))\n",
    "order = [x[0] for x in sorted(list(enumerate(years)), key=lambda x: x[1])]\n",
    "c_d = np.array(list(counts_by_year_dodaje_sie.values()))\n",
    "c_s = np.array(list(counts_by_year_skresla_sie.values()))\n",
    "c_o = np.array(list(counts_by_year_otrzymuje.values()))\n",
    "totals = np.array(c_d+c_s+c_o)\n",
    "s_c_d = c_d / totals\n",
    "s_c_s = c_s / totals\n",
    "s_c_o = c_o / totals\n",
    "\n",
    "fig, ax = plt.subplots(figsize=(8,5))\n",
    "ax.yaxis.set_major_formatter(mtick.PercentFormatter(1.0))\n",
    "ax.bar(years[order], s_c_d[order], label=\"percent added\")\n",
    "ax.bar(years[order], s_c_s[order], bottom=s_c_d[order], label=\"percent removed\")\n",
    "ax.bar(years[order], s_c_o[order], bottom=s_c_d[order] + s_c_s[order], label=\"percent changed\")\n",
    "plt.ylabel('Bill amendments percentage')\n",
    "plt.xlabel('Year')\n",
    "plt.title('Bill amendment percentage change by years')\n",
    "plt.legend()\n",
    "plt.show()"
   ]
  },
  {
   "cell_type": "markdown",
   "metadata": {},
   "source": [
    "# Building regular expressions (task 4-7)"
   ]
  },
  {
   "cell_type": "code",
   "execution_count": 88,
   "metadata": {},
   "outputs": [
    {
     "data": {
      "text/markdown": [
       "## Final regex forms\n",
       "\n",
       "### Word \"ustawa\"\n",
       "\n",
       "```(ustaw([aoyeęą]|a(mi|ch)|om|ie)?\\W)```\n",
       "\n",
       "### Word \"ustawa\" followed by \"z dnia\"\n",
       "\n",
       "```((ustaw([aoyeęą]|a(mi|ch)|om|ie)?\\W)(?=z[\\n\\s]dnia))```\n",
       "\n",
       "### Word \"ustawa\" not followed by \"z dnia\"\n",
       "\n",
       "```((ustaw([aoyeęą]|a(mi|ch)|om|ie)?\\W)(?!z[\\n\\s]dnia))```\n",
       "\n",
       "### Word \"ustawa\" preceded by \"o zmianie\"\n",
       "\n",
       "```((?<!o[\\n\\s]zmianie[\\n\\s])(ustaw([aoyeęą]|a(mi|ch)|om|ie)?\\W))```\n",
       "\n"
      ],
      "text/plain": [
       "<IPython.core.display.Markdown object>"
      ]
     },
     "execution_count": 88,
     "metadata": {},
     "output_type": "execute_result"
    }
   ],
   "source": [
    "ustawa = r\"(ustaw([aoyeęą]|a(mi|ch)|om|ie)?\\W)\"\n",
    "ustawa_z = r\"({USTAWA}(?=z[\\n\\s]dnia))\".format(USTAWA=ustawa)\n",
    "ustawa_n = r\"({USTAWA}(?!z[\\n\\s]dnia))\".format(USTAWA=ustawa)\n",
    "o_ustawa = r\"((?<!o[\\n\\s]zmianie[\\n\\s]){USTAWA})\".format(USTAWA=ustawa)\n",
    "\n",
    "md(\"## Final regex forms\\n\\n\"\n",
    "   \"### Word \\\"ustawa\\\"\\n\\n```{0}```\\n\\n\"\n",
    "   \"### Word \\\"ustawa\\\" followed by \\\"z dnia\\\"\\n\\n```{1}```\\n\\n\"\n",
    "   \"### Word \\\"ustawa\\\" not followed by \\\"z dnia\\\"\\n\\n```{2}```\\n\\n\"\n",
    "   \"### Word \\\"ustawa\\\" preceded by \\\"o zmianie\\\"\\n\\n```{3}```\\n\\n\".format(ustawa, ustawa_z, ustawa_n,o_ustawa))"
   ]
  },
  {
   "cell_type": "markdown",
   "metadata": {},
   "source": [
    "# Occurence counts extraction (task 4-7)"
   ]
  },
  {
   "cell_type": "code",
   "execution_count": 97,
   "metadata": {},
   "outputs": [
    {
     "data": {
      "text/markdown": [
       "## Occurence counts\n",
       "\n",
       "Word \"ustawa\": `25095`\n",
       "\n",
       "Word \"ustawa\" followed by \"z dnia\": `7567`\n",
       "\n",
       "Word \"ustawa\" not followed by \"z dnia\": `17528`\n",
       "\n",
       "Word \"ustawa\" preceded by \"o zmianie\": `24243`\n",
       "\n",
       "Word \"ustawa\" followed by \"z dnia and word \"ustawa\" not followed by \"z dnia counts sum is `25095` and that equals to word \"ustawa\" counts"
      ],
      "text/plain": [
       "<IPython.core.display.Markdown object>"
      ]
     },
     "execution_count": 97,
     "metadata": {},
     "output_type": "execute_result"
    }
   ],
   "source": [
    "out_ustawa = map(lambda x: re.findall(ustawa, x, re.IGNORECASE), dataset)\n",
    "out_ustawa_z = map(lambda x: re.findall(ustawa_z, x, re.IGNORECASE), dataset)\n",
    "out_ustawa_n = map(lambda x: re.findall(ustawa_n, x, re.IGNORECASE), dataset)\n",
    "out_o_ustawa = map(lambda x: re.findall(o_ustawa, x, re.IGNORECASE), dataset)\n",
    "counts_ustawa = sum(map(lambda x: len(x), out_ustawa))\n",
    "counts_ustawa_z = sum(map(lambda x: len(x), out_ustawa_z))\n",
    "counts_ustawa_n = sum(map(lambda x: len(x), out_ustawa_n))\n",
    "counts_o_ustawa = sum(map(lambda x: len(x), out_o_ustawa))\n",
    "\n",
    "md(\"## Occurence counts\\n\\n\"\n",
    "   \"Word \\\"ustawa\\\": `{0}`\\n\\n\"\n",
    "   \"Word \\\"ustawa\\\" followed by \\\"z dnia\\\": `{1}`\\n\\n\"\n",
    "   \"Word \\\"ustawa\\\" not followed by \\\"z dnia\\\": `{2}`\\n\\n\"\n",
    "   \"Word \\\"ustawa\\\" preceded by \\\"o zmianie\\\": `{3}`\\n\\n\"\n",
    "   \"Word \\\"ustawa\\\" followed by \\\"z dnia and \"\n",
    "   \"word \\\"ustawa\\\" not followed by \\\"z dnia counts sum is `{4}` and that equals to word \\\"ustawa\\\" counts\".format(counts_ustawa, \n",
    "                                                                  counts_ustawa_z, \n",
    "                                                                  counts_ustawa_n, \n",
    "                                                                  counts_o_ustawa,\n",
    "                                                                  counts_ustawa_z + counts_ustawa_n,\n",
    "                                                                 ))"
   ]
  },
  {
   "cell_type": "markdown",
   "metadata": {},
   "source": [
    "# Plotting (task 8)"
   ]
  },
  {
   "cell_type": "code",
   "execution_count": 34,
   "metadata": {},
   "outputs": [
    {
     "data": {
      "image/png": "[encoded data removed]",
      "text/plain": [
       "<Figure size 576x360 with 1 Axes>"
      ]
     },
     "metadata": {
      "needs_background": "light"
     },
     "output_type": "display_data"
    }
   ],
   "source": [
    "fig, ax = plt.subplots(figsize=(8,5))\n",
    "ax.bar([\"ustawa\"],\n",
    "       [counts_ustawa])\n",
    "ax.bar([\"ustawa+\\\"z dnia\\\"\"],\n",
    "       [counts_ustawa_z])\n",
    "ax.bar([\"ustawa-\\\"z dnia\\\"\"],\n",
    "       [counts_ustawa_n])\n",
    "ax.bar([\"-\\\"o zmianie\\\"ustawa\"],\n",
    "       [counts_o_ustawa])\n",
    "plt.ylabel('Number of occurrences')\n",
    "plt.xlabel('Pattern type')\n",
    "plt.title('Number of occurrences of given patterns')\n",
    "plt.show()"
   ]
  }
 ],
 "metadata": {
  "kernelspec": {
   "display_name": "Python 3",
   "language": "python",
   "name": "python3"
  },
  "language_info": {
   "codemirror_mode": {
    "name": "ipython",
    "version": 3
   },
   "file_extension": ".py",
   "mimetype": "text/x-python",
   "name": "python",
   "nbconvert_exporter": "python",
   "pygments_lexer": "ipython3",
   "version": "3.7.7"
  }
 },
 "nbformat": 4,
 "nbformat_minor": 4
}

{
 "cells": [
  {
   "cell_type": "code",
   "execution_count": 1,
   "metadata": {},
   "outputs": [],
   "source": [
    "import requests as rq\n",
    "import os\n",
    "from tqdm import tqdm\n",
    "import pprint\n",
    "import json\n",
    "from IPython.display import HTML, display"
   ]
  },
  {
   "cell_type": "code",
   "execution_count": 2,
   "metadata": {},
   "outputs": [],
   "source": [
    "datapath = os.path.join(\"..\",\"PycharmProjects\",\"nlp\",\"data\", \"ustawy\")"
   ]
  },
  {
   "cell_type": "code",
   "execution_count": 3,
   "metadata": {},
   "outputs": [],
   "source": [
    "ES_URL = \"http://localhost:9200\"\n",
    "INDEX_NAME = \"legislative-texts\"\n",
    "ANALYZER_SETUP = {\n",
    "  \"settings\": {\n",
    "    \"analysis\": {\n",
    "      \"analyzer\": {\n",
    "        \"polish_legislative_analyzer\": {\n",
    "          \"type\": \"custom\", \n",
    "          \"tokenizer\": \"standard\",\n",
    "          \"filter\": [\n",
    "            \"lowercase\",\n",
    "            \"synonym\",\n",
    "            \"morfologik_stem\"\n",
    "          ]\n",
    "        }\n",
    "      },\n",
    "      \"filter\": {\n",
    "        \"synonym\": {\n",
    "            \"type\": \"synonym\",\n",
    "            \"lenient\": True,\n",
    "            \"synonyms\": [\n",
    "              \"kc => kodeks cywilny\",\n",
    "              \"kk => kodeks karny\",\n",
    "              \"kpc => kodeks postępowania cywilnego\",\n",
    "              \"kpk => kodeks postępowania karnego\"\n",
    "            ]\n",
    "          }\n",
    "        }\n",
    "    }\n",
    "  },\n",
    "  \"mappings\": {\n",
    "    \"properties\": {\n",
    "      \"content\": {\n",
    "        \"type\": \"text\",\n",
    "        \"analyzer\": \"polish_legislative_analyzer\"\n",
    "      }\n",
    "    }\n",
    "  }\n",
    "}\n",
    "\n",
    "def display_repsonse(rsp):\n",
    "    pprint.pprint(json.loads(rsp.content.decode()))\n",
    "    \n",
    "def get_doc_id(filename):\n",
    "    return filename.split(\".\")[0]\n",
    "\n",
    "def load_file_to_index(index, file_id, content, quiet=True):\n",
    "    rsp = rq.put(\"{ES_URL}/{INDEX}/_doc/{FILE_ID}\".format(ES_URL=ES_URL, \n",
    "                                                         INDEX=index,\n",
    "                                                         FILE_ID=file_id), \n",
    "                 json={'content':content})\n",
    "    if not quiet:\n",
    "        display_repsonse(rsp)\n",
    "    return rsp\n",
    "\n",
    "def set_up_analyzer(index, analyzer_setup, quiet=True):\n",
    "    rsp = rq.put(\"{ES_URL}/{INDEX}\".format(ES_URL=ES_URL, \n",
    "                                           INDEX=index),\n",
    "                json=analyzer_setup)\n",
    "    if not quiet:\n",
    "        display_repsonse(rsp)\n",
    "    return rsp\n",
    "\n",
    "def delete_index(index):\n",
    "    rq.delete(\"{ES_URL}/{INDEX}\".format(ES_URL=ES_URL, INDEX=index))"
   ]
  },
  {
   "cell_type": "code",
   "execution_count": 4,
   "metadata": {},
   "outputs": [],
   "source": [
    "analyzer_response = set_up_analyzer(INDEX_NAME, ANALYZER_SETUP)"
   ]
  },
  {
   "cell_type": "code",
   "execution_count": 6,
   "metadata": {},
   "outputs": [
    {
     "name": "stdout",
     "output_type": "stream",
     "text": [
      "{'acknowledged': True,\n",
      " 'index': 'legislative-texts',\n",
      " 'shards_acknowledged': True}\n",
      "{'legislative-texts': {'mappings': {'properties': {'content': {'analyzer': 'polish_legislative_analyzer',\n",
      "                                                               'type': 'text'}}}}}\n"
     ]
    }
   ],
   "source": [
    "display_repsonse(analyzer_response)\n",
    "response = rq.get(\"{ES_URL}/{INDEX}/_mapping\".format(ES_URL=ES_URL, INDEX=INDEX_NAME))\n",
    "display_repsonse(response)"
   ]
  },
  {
   "cell_type": "code",
   "execution_count": 7,
   "metadata": {},
   "outputs": [
    {
     "name": "stderr",
     "output_type": "stream",
     "text": [
      "100%|██████████| 1180/1180 [01:01<00:00, 19.28it/s]\n"
     ]
    }
   ],
   "source": [
    "load_text_responses = []\n",
    "for doc_id, filename in enumerate(tqdm(os.listdir(datapath))):\n",
    "    with open(os.path.join(datapath, filename)) as current_file:\n",
    "        content = current_file.read()\n",
    "        out = load_file_to_index(INDEX_NAME, doc_id, content, quiet=True)\n",
    "        load_text_responses.append(out)\n",
    "        \n",
    "refresh_response = rq.post(\"{ES_URL}/{INDEX}/_refresh\".format(ES_URL=ES_URL, INDEX=INDEX_NAME))"
   ]
  },
  {
   "cell_type": "code",
   "execution_count": 8,
   "metadata": {},
   "outputs": [
    {
     "name": "stdout",
     "output_type": "stream",
     "text": [
      "{'_id': '0',\n",
      " '_index': 'legislative-texts',\n",
      " '_primary_term': 1,\n",
      " '_seq_no': 0,\n",
      " '_shards': {'failed': 0, 'successful': 1, 'total': 2},\n",
      " '_type': '_doc',\n",
      " '_version': 1,\n",
      " 'result': 'created'}\n"
     ]
    }
   ],
   "source": [
    "display_repsonse(load_text_responses[0])"
   ]
  },
  {
   "cell_type": "code",
   "execution_count": 9,
   "metadata": {},
   "outputs": [
    {
     "name": "stdout",
     "output_type": "stream",
     "text": [
      "{'_shards': {'failed': 0, 'skipped': 0, 'successful': 1, 'total': 1},\n",
      " 'count': 1179}\n"
     ]
    }
   ],
   "source": [
    "query = {\n",
    "  \"query\": {\n",
    "    \"match\": {\n",
    "      \"content\": \"ustawa\"\n",
    "    }\n",
    "  }\n",
    "}\n",
    "response = rq.get(\"{ES_URL}/{INDEX}/_count\".format(ES_URL=ES_URL, INDEX=INDEX_NAME), json=query)\n",
    "display_repsonse(response)"
   ]
  },
  {
   "cell_type": "code",
   "execution_count": 10,
   "metadata": {},
   "outputs": [
    {
     "name": "stdout",
     "output_type": "stream",
     "text": [
      "{'_shards': {'failed': 0, 'skipped': 0, 'successful': 1, 'total': 1},\n",
      " 'count': 100}\n"
     ]
    }
   ],
   "source": [
    "query = {\n",
    "    \"query\": {\n",
    "        \"intervals\" : {\n",
    "            \"content\" : {\n",
    "                \"all_of\": {\n",
    "                    \"ordered\": True,\n",
    "                    \"max_gaps\": 0,\n",
    "                    \"intervals\": [\n",
    "                        {\n",
    "                            \"match\": {\n",
    "                                \"query\": \"kodeks\",\n",
    "\n",
    "                            }\n",
    "                        },\n",
    "                        {\n",
    "                            \"match\": {\n",
    "                                \"query\": \"postępowania\",\n",
    "                            }\n",
    "                        },\n",
    "                        {\n",
    "                            \"match\": {\n",
    "                                \"query\": \"cywilnego\",\n",
    "                            }\n",
    "                        },\n",
    "                    ]\n",
    "                }\n",
    "            }\n",
    "        }\n",
    "    }\n",
    "}\n",
    "response = rq.get(\"{ES_URL}/{INDEX}/_doc/_count\".format(ES_URL=ES_URL, INDEX=INDEX_NAME), json=query)\n",
    "display_repsonse(response)"
   ]
  },
  {
   "cell_type": "code",
   "execution_count": 11,
   "metadata": {},
   "outputs": [
    {
     "name": "stdout",
     "output_type": "stream",
     "text": [
      "{'_shards': {'failed': 0, 'skipped': 0, 'successful': 1, 'total': 1},\n",
      " 'count': 1175}\n"
     ]
    }
   ],
   "source": [
    "query = {\n",
    "    \"query\": {\n",
    "        \"intervals\" : {\n",
    "            \"content\" : {\n",
    "                \"all_of\": {\n",
    "                    \"ordered\": True,\n",
    "                    \"max_gaps\":2,\n",
    "                    \"intervals\": [\n",
    "                        {\n",
    "                            \"match\": {\n",
    "                                \"query\": \"wchodzi\",\n",
    "                            }\n",
    "                        },\n",
    "                        {\n",
    "                            \"match\": {\n",
    "                                \"query\": \"w\",\n",
    "                            }\n",
    "                        },\n",
    "                        {\n",
    "                            \"match\": {\n",
    "                                \"query\": \"życie\",\n",
    "                            }\n",
    "                        }                         \n",
    "                    ]\n",
    "                }\n",
    "            }\n",
    "        }\n",
    "    }\n",
    "}\n",
    "response = rq.get(\"{ES_URL}/{INDEX}/_doc/_count\".format(ES_URL=ES_URL, INDEX=INDEX_NAME), json=query)\n",
    "display_repsonse(response)"
   ]
  },
  {
   "cell_type": "code",
   "execution_count": 12,
   "metadata": {},
   "outputs": [],
   "source": [
    "query = {\n",
    "  \"query\": {\n",
    "    \"match\": {\n",
    "      \"content\": \"konstytucja\"\n",
    "    }\n",
    "  },\n",
    "  \"highlight\": {\n",
    "    \"number_of_fragments\": 3,\n",
    "      \"fragment_size\": 50,\n",
    "    \"fields\": {\n",
    "      \"content\": {}\n",
    "    }\n",
    "  }\n",
    "}\n",
    "response = rq.get(\"{ES_URL}/{INDEX}/_search?size=10\".format(ES_URL=ES_URL, INDEX=INDEX_NAME), json=query)\n",
    "rsp = json.loads(response.content.decode())"
   ]
  },
  {
   "cell_type": "code",
   "execution_count": 13,
   "metadata": {},
   "outputs": [
    {
     "data": {
      "text/html": [
       "<table><tr><th>Score</th><th>Id</th><th>Higlights</th></tr><tr><td>6.8715763</td><td>1095</td><td>Do zgłoszenia projektu <em>Konstytucji</em> załącza się wykaz</br>Zasady, na których opierać się ma <em>Konstytucja</em> mogą</br>Projekty <em>Konstytucji</em> wniesione na podstawie i w trybie</td></tr><tr><td>6.6677475</td><td>69</td><td>zgody, o której mowa w art. 89\n",
       "  ust. 1 i art. 90 <em>Konstytucji</em></br>międzynarodowej, o którym mowa w art. 89 ust. 2\n",
       "  <em>Konstytucji</em></br>zgodą, o której mowa w art. 89 ust. 1 i\n",
       "  art. 90 <em>Konstytucji</em></td></tr><tr><td>6.63778</td><td>1025</td><td>Z wnioskiem o stwierdzenie zgodności z <em>Konstytucją</em></br>Wnioski o stwierdzenie zgodności z <em>Konstytucją</em> celów</br>Ciężar udowodnienia niezgodności z <em>Konstytucją</em> spoczywa</td></tr><tr><td>6.63198</td><td>106</td><td>Za naruszenie <em>Konstytucji</em> lub ustawy, w związku z zajmowanym</br>W zakresie określonym w art. 107 <em>Konstytucji</em> odpowiedzialność</br>przed\n",
       "              Trybunałem Stanu za naruszenie <em>Konstytucji</em></td></tr><tr><td>6.2563562</td><td>494</td><td>zgodności ustaw i umów międzynarodowych z\n",
       "               <em>Konstytucją</em></br>przez\n",
       "               centralne organy państwowe, z <em>Konstytucją</em></br>ustawami,\n",
       "             4) stwierdzenie zgodności z <em>Konstytucją</em></td></tr><tr><td>6.06512</td><td>120</td><td>pokoju,\n",
       "   2) referendum zatwierdzającego zmianę <em>Konstytucji</em></br>ważności referendum zatwierdzającego zmianę\n",
       "     <em>Konstytucji</em></br>wyboru, powoływania lub odwoływania na określone w <em>Konstytucji</em></td></tr><tr><td>5.9354334</td><td>1005</td><td>kwietnia \n",
       "1992 r. o trybie przygotowania i uchwalenia <em>Konstytucji</em></br>kwietnia 1992 r. o trybie przygotowania i uchwalenia <em>Konstytucji</em></br>Przyjęcie w referendum <em>Konstytucji</em> następuje wówczas</td></tr><tr><td>5.8562784</td><td>211</td><td>przez obywateli, o której mowa w art. 118 ust. 2 <em>Konstytucji</em></br>Projekt ustawy nie może dotyczyć spraw, dla których <em>Konstytucja</em></br>Marszałka Sejmu powinien odpowiadać wymogom\n",
       "  zawartym w <em>Konstytucji</em></td></tr><tr><td>5.473364</td><td>402</td><td>zwana dalej \"Radą\", realizuje cele określone w\n",
       "  <em>Konstytucji</em></br>Trybunału Konstytucyjnego o\n",
       "     zbadanie zgodności z <em>Konstytucją</em></td></tr><tr><td>5.473364</td><td>481</td><td>Rzecznikiem, stoi na straży praw dziecka\n",
       "  określonych w <em>Konstytucji</em></br>obowiązków\n",
       "     Rzecznika Praw Dziecka dochowam wierności <em>Konstytucji</em></td></tr></table>"
      ],
      "text/plain": [
       "<IPython.core.display.HTML object>"
      ]
     },
     "metadata": {},
     "output_type": "display_data"
    }
   ],
   "source": [
    "score_id = [[h['_score'], h['_id'], h['highlight']['content']] for h in rsp['hits']['hits']]\n",
    "display(HTML(\n",
    "   '<table><tr><th>Score</th><th>Id</th><th>Higlights</th></tr><tr>{}</tr></table>'.format(\n",
    "       '</tr><tr>'.join(\n",
    "           '<td>{}</td>'.format('</td><td>'.join(str(el) if type(el) != list else \"</br>\".join(el) for el in row)) for row in score_id)\n",
    "       )\n",
    "))"
   ]
  },
  {
   "cell_type": "code",
   "execution_count": 387,
   "metadata": {},
   "outputs": [],
   "source": [
    "#delete_index(INDEX_NAME)"
   ]
  }
 ],
 "metadata": {
  "kernelspec": {
   "display_name": "Python 3",
   "language": "python",
   "name": "python3"
  },
  "language_info": {
   "codemirror_mode": {
    "name": "ipython",
    "version": 3
   },
   "file_extension": ".py",
   "mimetype": "text/x-python",
   "name": "python",
   "nbconvert_exporter": "python",
   "pygments_lexer": "ipython3",
   "version": "3.7.7"
  }
 },
 "nbformat": 4,
 "nbformat_minor": 4
}
